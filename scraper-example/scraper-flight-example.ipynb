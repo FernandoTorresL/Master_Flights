{
 "cells": [
  {
   "cell_type": "markdown",
   "metadata": {},
   "source": [
    "# Scraper example - Find and scrap flight and stopover information\n"
   ]
  },
  {
   "cell_type": "markdown",
   "metadata": {},
   "source": [
    "### This example is based on the Course \"Curso de Web Scraping: Extracción de Datos en la Web\" on Platzi.\n",
    "#### Warning: The course was made some months ago. Be aware that the instructions, version and details there may have been changed"
   ]
  },
  {
   "cell_type": "code",
   "execution_count": null,
   "metadata": {},
   "outputs": [],
   "source": [
    "\n"
   ]
  },
  {
   "cell_type": "markdown",
   "metadata": {},
   "source": [
    "## Setup and firts attempts..."
   ]
  },
  {
   "cell_type": "code",
   "execution_count": 1,
   "metadata": {},
   "outputs": [],
   "source": [
    "# The URL of flight info to use first it will be this\n",
    "\n",
    "url='https://www.latam.com/es_mx/apps/personas/booking?fecha1_dia=01&fecha1_anomes=2020-11&auAvailability=1&ida_vuelta=ida&vuelos_origen=Ciudad%20de%20M%C3%A9xico&from_city1=BUE&vuelos_destino=Canc%C3%BAn&to_city1=MAD&flex=1&vuelos_fecha_salida_ddmmaaaa=29/08/2020&cabina=Y&nadults=1&nchildren=0&ninfants=0&cod_promo=&stopover_outbound_days=0&stopover_inbound_days=0&application=#/'\n",
    "#url='https://www.latam.com/es_mx/apps/personas/booking?fecha1_dia=01&fecha1_anomes=2020-12&auAvailability=1&ida_vuelta=ida&vuelos_origen=Ciudad%20de%20M%C3%A9xico&from_city1=BOG&vuelos_destino=Bogot%C3%A1&to_city1=CTG&flex=1&vuelos_fecha_salida_ddmmaaaa=01/09/2020&cabina=Y&nadults=1&nchildren=0&ninfants=0&cod_promo=&stopover_outbound_days=0&stopover_inbound_days=0&application=#/'\n",
    "\n",
    "# Surely you have to change the parameters or the entire example URL on the future to get this working."
   ]
  },
  {
   "cell_type": "code",
   "execution_count": 2,
   "metadata": {},
   "outputs": [],
   "source": [
    "# The page use JS on some buttons and modals, so we need selenium to interact with the data\n",
    "\n",
    "from selenium import webdriver\n"
   ]
  },
  {
   "cell_type": "code",
   "execution_count": 3,
   "metadata": {},
   "outputs": [],
   "source": [
    "options = webdriver.ChromeOptions()\n",
    "options.add_argument('--incognito')\n",
    "driver = webdriver.Chrome(executable_path='../../chromedriver', options=options)"
   ]
  },
  {
   "cell_type": "code",
   "execution_count": 4,
   "metadata": {},
   "outputs": [],
   "source": [
    "# Get the url \n",
    "driver.get(url)"
   ]
  },
  {
   "cell_type": "code",
   "execution_count": 5,
   "metadata": {},
   "outputs": [
    {
     "data": {
      "text/plain": [
       "[<selenium.webdriver.remote.webelement.WebElement (session=\"5eb5ee9a71675a48612a8ac6fd2fc9ac\", element=\"51fd6dfc-981c-4802-b2fc-2c6956abd815\")>,\n",
       " <selenium.webdriver.remote.webelement.WebElement (session=\"5eb5ee9a71675a48612a8ac6fd2fc9ac\", element=\"103c9cd2-fdd0-4f05-9b07-7638ff61c8b3\")>,\n",
       " <selenium.webdriver.remote.webelement.WebElement (session=\"5eb5ee9a71675a48612a8ac6fd2fc9ac\", element=\"249dcbe2-bb3c-4dac-96cf-d215e92a02b3\")>,\n",
       " <selenium.webdriver.remote.webelement.WebElement (session=\"5eb5ee9a71675a48612a8ac6fd2fc9ac\", element=\"38deedbc-16fc-496a-af4f-a7c157f17a3d\")>,\n",
       " <selenium.webdriver.remote.webelement.WebElement (session=\"5eb5ee9a71675a48612a8ac6fd2fc9ac\", element=\"fed26402-d95a-470c-bca5-8fd9efe724cd\")>,\n",
       " <selenium.webdriver.remote.webelement.WebElement (session=\"5eb5ee9a71675a48612a8ac6fd2fc9ac\", element=\"76bc2416-08c2-428c-b752-b79b29cc2ab4\")>,\n",
       " <selenium.webdriver.remote.webelement.WebElement (session=\"5eb5ee9a71675a48612a8ac6fd2fc9ac\", element=\"e139becd-3856-4434-b6e7-d010bbe11b9f\")>,\n",
       " <selenium.webdriver.remote.webelement.WebElement (session=\"5eb5ee9a71675a48612a8ac6fd2fc9ac\", element=\"f3d21e69-0606-4884-9ff6-b1735541b0d4\")>,\n",
       " <selenium.webdriver.remote.webelement.WebElement (session=\"5eb5ee9a71675a48612a8ac6fd2fc9ac\", element=\"11465163-d3ec-4eb4-ba7a-95d1177556c0\")>,\n",
       " <selenium.webdriver.remote.webelement.WebElement (session=\"5eb5ee9a71675a48612a8ac6fd2fc9ac\", element=\"9fb58e13-1dae-41f0-b63b-f884d4dff870\")>,\n",
       " <selenium.webdriver.remote.webelement.WebElement (session=\"5eb5ee9a71675a48612a8ac6fd2fc9ac\", element=\"2058e8f6-bdf8-460f-adf9-fa5539402ae9\")>,\n",
       " <selenium.webdriver.remote.webelement.WebElement (session=\"5eb5ee9a71675a48612a8ac6fd2fc9ac\", element=\"49af6445-967e-4757-9af7-b37673c7daeb\")>,\n",
       " <selenium.webdriver.remote.webelement.WebElement (session=\"5eb5ee9a71675a48612a8ac6fd2fc9ac\", element=\"48afb04c-d708-4c18-b2a4-26d72dc82f40\")>,\n",
       " <selenium.webdriver.remote.webelement.WebElement (session=\"5eb5ee9a71675a48612a8ac6fd2fc9ac\", element=\"a9cf0eba-bc42-434d-a550-c983a598a906\")>,\n",
       " <selenium.webdriver.remote.webelement.WebElement (session=\"5eb5ee9a71675a48612a8ac6fd2fc9ac\", element=\"bb4cead0-238e-44c1-be75-85d9788ec4c6\")>,\n",
       " <selenium.webdriver.remote.webelement.WebElement (session=\"5eb5ee9a71675a48612a8ac6fd2fc9ac\", element=\"b90dbea8-124a-49d6-9fdd-a920e0408e15\")>,\n",
       " <selenium.webdriver.remote.webelement.WebElement (session=\"5eb5ee9a71675a48612a8ac6fd2fc9ac\", element=\"fb13fbd6-81be-45c2-9df5-b3688067bb64\")>,\n",
       " <selenium.webdriver.remote.webelement.WebElement (session=\"5eb5ee9a71675a48612a8ac6fd2fc9ac\", element=\"a20f7a25-96fd-4f84-b865-85f31c6b007f\")>,\n",
       " <selenium.webdriver.remote.webelement.WebElement (session=\"5eb5ee9a71675a48612a8ac6fd2fc9ac\", element=\"efd2410a-2832-4627-a3f8-9fb932c79807\")>,\n",
       " <selenium.webdriver.remote.webelement.WebElement (session=\"5eb5ee9a71675a48612a8ac6fd2fc9ac\", element=\"a4934611-daf2-4202-99e3-4c9bd8747dde\")>]"
      ]
     },
     "execution_count": 5,
     "metadata": {},
     "output_type": "execute_result"
    }
   ],
   "source": [
    "# Try to get the flights\n",
    "flights = driver.find_elements_by_xpath('//li[@class=\"flight\"]')\n",
    "flights"
   ]
  },
  {
   "cell_type": "code",
   "execution_count": null,
   "metadata": {},
   "outputs": [],
   "source": [
    "# Don´t forget to close the driver\n",
    "# driver.close()"
   ]
  },
  {
   "cell_type": "markdown",
   "metadata": {},
   "source": [
    "## Scrap data from one flight\n"
   ]
  },
  {
   "cell_type": "code",
   "execution_count": 6,
   "metadata": {},
   "outputs": [
    {
     "data": {
      "text/plain": [
       "<selenium.webdriver.remote.webelement.WebElement (session=\"5eb5ee9a71675a48612a8ac6fd2fc9ac\", element=\"51fd6dfc-981c-4802-b2fc-2c6956abd815\")>"
      ]
     },
     "execution_count": 6,
     "metadata": {},
     "output_type": "execute_result"
    }
   ],
   "source": [
    "# Select one flight\n",
    "flight = flights[0]\n",
    "flight"
   ]
  },
  {
   "cell_type": "code",
   "execution_count": 7,
   "metadata": {},
   "outputs": [
    {
     "data": {
      "text/plain": [
       "'EZE'"
      ]
     },
     "execution_count": 7,
     "metadata": {},
     "output_type": "execute_result"
    }
   ],
   "source": [
    "# Get departure\n",
    "departure = flight.find_element_by_xpath('.//div[@class=\"departure\"]/span[@class=\"ground-point-name\"]').text\n",
    "departure\n"
   ]
  },
  {
   "cell_type": "code",
   "execution_count": 8,
   "metadata": {},
   "outputs": [
    {
     "data": {
      "text/plain": [
       "'18:35'"
      ]
     },
     "execution_count": 8,
     "metadata": {},
     "output_type": "execute_result"
    }
   ],
   "source": [
    "departure_time = flight.find_element_by_xpath('.//div[@class=\"departure\"]/time').get_attribute('datetime')\n",
    "departure_time\n"
   ]
  },
  {
   "cell_type": "code",
   "execution_count": 9,
   "metadata": {},
   "outputs": [
    {
     "data": {
      "text/plain": [
       "'MAD'"
      ]
     },
     "execution_count": 9,
     "metadata": {},
     "output_type": "execute_result"
    }
   ],
   "source": [
    "arrival = flight.find_element_by_xpath('.//div[@class=\"arrival\"]/span[@class=\"ground-point-name\"]').text\n",
    "arrival\n"
   ]
  },
  {
   "cell_type": "code",
   "execution_count": 10,
   "metadata": {},
   "outputs": [
    {
     "data": {
      "text/plain": [
       "'13:10'"
      ]
     },
     "execution_count": 10,
     "metadata": {},
     "output_type": "execute_result"
    }
   ],
   "source": [
    "arrival_time = flight.find_element_by_xpath('.//div[@class=\"arrival\"]/time').get_attribute('datetime')\n",
    "arrival_time\n"
   ]
  },
  {
   "cell_type": "code",
   "execution_count": 11,
   "metadata": {},
   "outputs": [
    {
     "data": {
      "text/plain": [
       "'14H35M'"
      ]
     },
     "execution_count": 11,
     "metadata": {},
     "output_type": "execute_result"
    }
   ],
   "source": [
    "duration = flight.find_element_by_xpath('.//span[@class=\"duration\"]/time').get_attribute('datetime')\n",
    "# duration\n",
    "duration = duration.replace('PT', '')\n",
    "duration\n"
   ]
  },
  {
   "cell_type": "code",
   "execution_count": 12,
   "metadata": {},
   "outputs": [
    {
     "data": {
      "text/plain": [
       "'US$'"
      ]
     },
     "execution_count": 12,
     "metadata": {},
     "output_type": "execute_result"
    }
   ],
   "source": [
    "#price = flight.find_element_by_xpath('.//span[@class=\"currency-symbol\"]').text\n",
    "#price\n",
    "\n",
    "currency = flight.find_element_by_xpath('.//span[@class=\"price\"]/span[@class=\"currency-symbol\"]').text\n",
    "currency\n"
   ]
  },
  {
   "cell_type": "code",
   "execution_count": 13,
   "metadata": {},
   "outputs": [
    {
     "data": {
      "text/plain": [
       "'551'"
      ]
     },
     "execution_count": 13,
     "metadata": {},
     "output_type": "execute_result"
    }
   ],
   "source": [
    "price = flight.find_element_by_xpath('.//span[@class=\"price\"]/span[@class=\"value\"]').text\n",
    "price\n"
   ]
  },
  {
   "cell_type": "code",
   "execution_count": 14,
   "metadata": {},
   "outputs": [],
   "source": [
    "### It works! So, we can iterate to get all the flights on the page"
   ]
  },
  {
   "cell_type": "markdown",
   "metadata": {},
   "source": [
    "## Try to scrap stopover details"
   ]
  },
  {
   "cell_type": "code",
   "execution_count": 16,
   "metadata": {},
   "outputs": [
    {
     "data": {
      "text/plain": [
       "<selenium.webdriver.remote.webelement.WebElement (session=\"5eb5ee9a71675a48612a8ac6fd2fc9ac\", element=\"49339d22-aff2-4553-b707-02db5cdc22a8\")>"
      ]
     },
     "execution_count": 16,
     "metadata": {},
     "output_type": "execute_result"
    }
   ],
   "source": [
    "# Select the button that show stopover details\n",
    "stopover_button = flight.find_element_by_xpath('.//div[@class=\"flight-summary-stops-description\"]/button')\n",
    "stopover_button"
   ]
  },
  {
   "cell_type": "code",
   "execution_count": 17,
   "metadata": {},
   "outputs": [],
   "source": [
    "# Do the 'click' on that button\n",
    "stopover_button.click()"
   ]
  },
  {
   "cell_type": "code",
   "execution_count": 18,
   "metadata": {},
   "outputs": [
    {
     "data": {
      "text/plain": [
       "[<selenium.webdriver.remote.webelement.WebElement (session=\"5eb5ee9a71675a48612a8ac6fd2fc9ac\", element=\"4f1c6c4c-6d65-4064-84d8-349024936fbb\")>,\n",
       " <selenium.webdriver.remote.webelement.WebElement (session=\"5eb5ee9a71675a48612a8ac6fd2fc9ac\", element=\"4e0568b0-7240-446a-9b01-91b850657b4f\")>]"
      ]
     },
     "execution_count": 18,
     "metadata": {},
     "output_type": "execute_result"
    }
   ],
   "source": [
    "# Select the first segment\n",
    "segments = flight.find_elements_by_xpath('//div[@class=\"sc-hZSUBg gfeULV\"]//div[@class=\"sc-cLQEGU hyoued\"]')\n",
    "segments\n"
   ]
  },
  {
   "cell_type": "code",
   "execution_count": 19,
   "metadata": {},
   "outputs": [
    {
     "data": {
      "text/plain": [
       "1"
      ]
     },
     "execution_count": 19,
     "metadata": {},
     "output_type": "execute_result"
    }
   ],
   "source": [
    "# How many stopovers are there?\n",
    "stopovers = len(segments) - 1\n",
    "stopovers\n"
   ]
  },
  {
   "cell_type": "code",
   "execution_count": 20,
   "metadata": {},
   "outputs": [
    {
     "data": {
      "text/plain": [
       "<selenium.webdriver.remote.webelement.WebElement (session=\"5eb5ee9a71675a48612a8ac6fd2fc9ac\", element=\"4f1c6c4c-6d65-4064-84d8-349024936fbb\")>"
      ]
     },
     "execution_count": 20,
     "metadata": {},
     "output_type": "execute_result"
    }
   ],
   "source": [
    "# Select the departure section\n",
    "segment = segments[0]\n",
    "segment"
   ]
  },
  {
   "cell_type": "code",
   "execution_count": 21,
   "metadata": {},
   "outputs": [
    {
     "data": {
      "text/plain": [
       "'18:35'"
      ]
     },
     "execution_count": 21,
     "metadata": {},
     "output_type": "execute_result"
    }
   ],
   "source": [
    "# Departure time\n",
    "# time_departure = segment.find_element_by_xpath('.//div[@class=\"sc-gwVKww iahkEA\"]/div[@class=\"sc-bwCtUz iybVbT\"]/time').text\n",
    "departure_time = segment.find_element_by_xpath('//span[@class=\"sc-bsbRJL bMMExG\"][1]/div/span/div/div/time').text\n",
    "departure_time"
   ]
  },
  {
   "cell_type": "markdown",
   "metadata": {},
   "source": [
    "## Scrap the departure data"
   ]
  },
  {
   "cell_type": "code",
   "execution_count": 23,
   "metadata": {},
   "outputs": [
    {
     "data": {
      "text/plain": [
       "'18:35'"
      ]
     },
     "execution_count": 23,
     "metadata": {},
     "output_type": "execute_result"
    }
   ],
   "source": [
    "departure_time = segment.find_element_by_xpath('//span[@class=\"sc-bsbRJL bMMExG\"][1]/div/span/div/div/time').text\n",
    "departure_time\n"
   ]
  },
  {
   "cell_type": "code",
   "execution_count": 30,
   "metadata": {},
   "outputs": [
    {
     "data": {
      "text/plain": [
       "'EZE'"
      ]
     },
     "execution_count": 30,
     "metadata": {},
     "output_type": "execute_result"
    }
   ],
   "source": [
    "# Departure\n",
    "# departure = segment.find_element_by_xpath('.//div[@class=\"sc-gwVKww iahkEA\"]/div[@class=\"sc-bwCtUz iybVbT\"]/abbr').text\n",
    "departure = segment.find_element_by_xpath('//span[@class=\"sc-bsbRJL bMMExG\"][1]/div/span/div/div/abbr').text\n",
    "departure\n"
   ]
  },
  {
   "cell_type": "code",
   "execution_count": 32,
   "metadata": {},
   "outputs": [
    {
     "data": {
      "text/plain": [
       "'Salida a las 18 Horas 35 Minutos, de Ezeiza Intl.'"
      ]
     },
     "execution_count": 32,
     "metadata": {},
     "output_type": "execute_result"
    }
   ],
   "source": [
    "# Departure_info\n",
    "# departure_info = segment.find_element_by_xpath('.//div[@class=\"sc-gwVKww iahkEA\"]/div[@class=\"sc-bwCtUz iybVbT\"]/span').text\n",
    "departure_info = segment.find_element_by_xpath('//span[@class=\"sc-bsbRJL bMMExG\"][1]/div/span/div/div/span').text\n",
    "departure_info\n"
   ]
  },
  {
   "cell_type": "code",
   "execution_count": 33,
   "metadata": {},
   "outputs": [
    {
     "data": {
      "text/plain": [
       "'Ezeiza Intl.'"
      ]
     },
     "execution_count": 33,
     "metadata": {},
     "output_type": "execute_result"
    }
   ],
   "source": [
    "# Arrival airport_name\n",
    "# arrival_airport_name = segment.find_element_by_xpath('.//span[@class=\"sc-eTuwsz eumCTU\"]/span[@class=\"sc-hXRMBi gVvErD\"]').text\n",
    "arrival_airport_name = segment.find_element_by_xpath('//span[@class=\"sc-bsbRJL bMMExG\"][1]/div/span/span').text\n",
    "arrival_airport_name\n"
   ]
  },
  {
   "cell_type": "code",
   "execution_count": 27,
   "metadata": {},
   "outputs": [
    {
     "data": {
      "text/plain": [
       "'2:45'"
      ]
     },
     "execution_count": 27,
     "metadata": {},
     "output_type": "execute_result"
    }
   ],
   "source": [
    "#Flight Duration\n",
    "flight_duration = segment.find_element_by_xpath('.//div[@class=\"sc-esOvli iQSbOQ\"]//span[@class=\"sc-esjQYD dMquDU\"]/time').get_attribute('datetime')\n",
    "# flight_duration = segment.find_element_by_xpath('.//span[@class=\"sc-cmthru ipc0EH\"][2]//span[@class=\"sc-esjQYD dMquDU\"]/time').text\n",
    "flight_duration"
   ]
  },
  {
   "cell_type": "code",
   "execution_count": 34,
   "metadata": {},
   "outputs": [
    {
     "data": {
      "text/plain": [
       "'21:20'"
      ]
     },
     "execution_count": 34,
     "metadata": {},
     "output_type": "execute_result"
    }
   ],
   "source": [
    "# Arrival time\n",
    "arrival_time = segment.find_element_by_xpath('//span[@class=\"sc-bsbRJL bMMExG\"][2]/div/span/div/div/time').text\n",
    "arrival_time\n"
   ]
  },
  {
   "cell_type": "code",
   "execution_count": 35,
   "metadata": {},
   "outputs": [
    {
     "data": {
      "text/plain": [
       "'GRU'"
      ]
     },
     "execution_count": 35,
     "metadata": {},
     "output_type": "execute_result"
    }
   ],
   "source": [
    "# Destination\n",
    "arrival = segment.find_element_by_xpath('//span[@class=\"sc-bsbRJL bMMExG\"][2]/div/span/div/div/abbr').text\n",
    "arrival\n"
   ]
  },
  {
   "cell_type": "code",
   "execution_count": 37,
   "metadata": {},
   "outputs": [
    {
     "data": {
      "text/plain": [
       "'Llegada a las 21 Horas 20 Minutos, a Guarulhos Intl.'"
      ]
     },
     "execution_count": 37,
     "metadata": {},
     "output_type": "execute_result"
    }
   ],
   "source": [
    "# Arrival info\n",
    "arrival_info = segment.find_element_by_xpath('//span[@class=\"sc-bsbRJL bMMExG\"][2]/div/span/div/div/span').text\n",
    "arrival_info\n"
   ]
  },
  {
   "cell_type": "code",
   "execution_count": 38,
   "metadata": {},
   "outputs": [
    {
     "data": {
      "text/plain": [
       "'Guarulhos Intl.'"
      ]
     },
     "execution_count": 38,
     "metadata": {},
     "output_type": "execute_result"
    }
   ],
   "source": [
    "# Arrival Airport Name\n",
    "arrival_airport_name = segment.find_element_by_xpath('//span[@class=\"sc-bsbRJL bMMExG\"][2]/div/span/span').text\n",
    "arrival_airport_name\n"
   ]
  },
  {
   "cell_type": "markdown",
   "metadata": {},
   "source": [
    "#### Getting stopover details\n"
   ]
  },
  {
   "cell_type": "code",
   "execution_count": 39,
   "metadata": {},
   "outputs": [
    {
     "data": {
      "text/plain": [
       "'https://s.latamstatic.com/images/shopping/airlines/symbol-color-positive.svg'"
      ]
     },
     "execution_count": 39,
     "metadata": {},
     "output_type": "execute_result"
    }
   ],
   "source": [
    "# Company img\n",
    "company_img = segment.find_element_by_xpath('//div[@class=\"sc-hMFtBS bGZqFm\"]/div/div/div/img').get_attribute('src')\n",
    "# or\n",
    "company_img = segment.find_element_by_xpath('//div[@class=\"sc-hMFtBS bGZqFm\"]//img[@class=\"airline-logo-picker sc-iyvyFf kTHKNe\"]').get_attribute('src')\n",
    "company_img\n"
   ]
  },
  {
   "cell_type": "code",
   "execution_count": 40,
   "metadata": {},
   "outputs": [
    {
     "data": {
      "text/plain": [
       "'LATAM Airlines Brasil'"
      ]
     },
     "execution_count": 40,
     "metadata": {},
     "output_type": "execute_result"
    }
   ],
   "source": [
    "# Company alt name\n",
    "company_logo_name = segment.find_element_by_xpath('//div[@class=\"sc-hMFtBS bGZqFm\"]/div/div/div/img').get_attribute('alt')\n",
    "# or\n",
    "company_logo_name = segment.find_element_by_xpath('//div[@class=\"sc-hMFtBS bGZqFm\"]//img[@class=\"airline-logo-picker sc-iyvyFf kTHKNe\"]').get_attribute('alt')\n",
    "company_logo_name\n"
   ]
  },
  {
   "cell_type": "code",
   "execution_count": 41,
   "metadata": {},
   "outputs": [
    {
     "data": {
      "text/plain": [
       "'LA8011'"
      ]
     },
     "execution_count": 41,
     "metadata": {},
     "output_type": "execute_result"
    }
   ],
   "source": [
    "# Flight number\n",
    "flight_number = segment.find_element_by_xpath('//div[@class=\"sc-hMFtBS bGZqFm\"]//div[@class=\"airline-flight-details\"]/b').text\n",
    "# or\n",
    "flight_number = segment.find_element_by_xpath('//div[@class=\"sc-hMFtBS bGZqFm\"]//div[@class=\"airline-flight-details\"]/b').text\n",
    "flight_number\n"
   ]
  },
  {
   "cell_type": "code",
   "execution_count": 42,
   "metadata": {},
   "outputs": [
    {
     "data": {
      "text/plain": [
       "'Airbus 320-200'"
      ]
     },
     "execution_count": 42,
     "metadata": {},
     "output_type": "execute_result"
    }
   ],
   "source": [
    "# Airplane_type\n",
    "airplane_type = segment.find_element_by_xpath('//div[@class=\"sc-hMFtBS bGZqFm\"]//div[@class=\"airline-flight-details\"]/span[2]').text\n",
    "# or\n",
    "airplane_type = segment.find_element_by_xpath('//div[@class=\"sc-hMFtBS bGZqFm\"]//span[@class=\"sc-gzOgki uTyOl\"]').text\n",
    "airplane_type\n"
   ]
  },
  {
   "cell_type": "code",
   "execution_count": 43,
   "metadata": {},
   "outputs": [
    {
     "data": {
      "text/plain": [
       "'Operado por LATAM Airlines Brasil'"
      ]
     },
     "execution_count": 43,
     "metadata": {},
     "output_type": "execute_result"
    }
   ],
   "source": [
    "# Flight_info\n",
    "flight_info = segment.find_element_by_xpath('//div[@class=\"sc-hMFtBS bGZqFm\"]//div[@class=\"airline-flight-details\"]/span[2]').text\n",
    "# or\n",
    "flight_info = segment.find_element_by_xpath('//div[@class=\"sc-hMFtBS bGZqFm\"]//span[@class=\"sc-kfGgVZ lccoDs\"]').text\n",
    "flight_info\n"
   ]
  },
  {
   "cell_type": "code",
   "execution_count": 44,
   "metadata": {},
   "outputs": [
    {
     "data": {
      "text/plain": [
       "'Conexión en Sao Paulo'"
      ]
     },
     "execution_count": 44,
     "metadata": {},
     "output_type": "execute_result"
    }
   ],
   "source": [
    "# Stopover Connection\n",
    "stopover_connection = segment.find_element_by_xpath('//div[@class=\"sc-cLQEGU dnKRNG\"]//div[@class=\"sc-hMFtBS cfwWiO\"]/span').text\n",
    "stopover_connection\n"
   ]
  },
  {
   "cell_type": "code",
   "execution_count": 45,
   "metadata": {},
   "outputs": [
    {
     "data": {
      "text/plain": [
       "'(cambio de avión)'"
      ]
     },
     "execution_count": 45,
     "metadata": {},
     "output_type": "execute_result"
    }
   ],
   "source": [
    "# Stopover Detail\n",
    "stopover_detail = segment.find_element_by_xpath('//div[@class=\"sc-cLQEGU dnKRNG\"]//div[@class=\"sc-hMFtBS cfwWiO\"]/span[2]').text\n",
    "stopover_detail\n"
   ]
  },
  {
   "cell_type": "code",
   "execution_count": 46,
   "metadata": {},
   "outputs": [
    {
     "data": {
      "text/plain": [
       "'1:35'"
      ]
     },
     "execution_count": 46,
     "metadata": {},
     "output_type": "execute_result"
    }
   ],
   "source": [
    "# Stopover Duration\n",
    "stopover_duration = segment.find_element_by_xpath('//div[@class=\"sc-cLQEGU dnKRNG\"]//span[@class=\"sc-esjQYD dMquDU\"]/time').get_attribute('datetime')\n",
    "stopover_duration\n"
   ]
  },
  {
   "cell_type": "code",
   "execution_count": 47,
   "metadata": {},
   "outputs": [],
   "source": [
    "# Closing modal window\n",
    "driver.find_element_by_xpath('//div[@class=\"modal-content sc-iwsKbI eHVGAN\"]//button[@class=\"close\"]').click()\n"
   ]
  },
  {
   "cell_type": "code",
   "execution_count": null,
   "metadata": {},
   "outputs": [],
   "source": []
  }
 ],
 "metadata": {
  "kernelspec": {
   "display_name": "Python 3",
   "language": "python",
   "name": "python3"
  },
  "language_info": {
   "codemirror_mode": {
    "name": "ipython",
    "version": 3
   },
   "file_extension": ".py",
   "mimetype": "text/x-python",
   "name": "python",
   "nbconvert_exporter": "python",
   "pygments_lexer": "ipython3",
   "version": "3.8.3"
  }
 },
 "nbformat": 4,
 "nbformat_minor": 4
}
