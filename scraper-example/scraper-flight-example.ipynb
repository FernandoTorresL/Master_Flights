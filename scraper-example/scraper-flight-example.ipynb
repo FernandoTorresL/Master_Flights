{
 "cells": [
  {
   "cell_type": "markdown",
   "metadata": {},
   "source": [
    "# Scraper example - Find and scrap flight and stopover information\n"
   ]
  },
  {
   "cell_type": "markdown",
   "metadata": {},
   "source": [
    "### This example is based on the Course \"Curso de Web Scraping: Extracción de Datos en la Web\" on Platzi.\n",
    "#### Warning: The course was made some months ago. Be aware that the instructions, version and details there may have been changed"
   ]
  },
  {
   "cell_type": "code",
   "execution_count": null,
   "metadata": {},
   "outputs": [],
   "source": [
    "\n"
   ]
  },
  {
   "cell_type": "markdown",
   "metadata": {},
   "source": [
    "## Setup and firts attempts..."
   ]
  },
  {
   "cell_type": "code",
   "execution_count": 3,
   "metadata": {},
   "outputs": [],
   "source": [
    "# The URL of flight info to use first it will be this\n",
    "\n",
    "url='https://www.latam.com/es_mx/apps/personas/booking?fecha1_dia=01&fecha1_anomes=2020-11&auAvailability=1&ida_vuelta=ida&vuelos_origen=Ciudad%20de%20M%C3%A9xico&from_city1=BUE&vuelos_destino=Canc%C3%BAn&to_city1=MAD&flex=1&vuelos_fecha_salida_ddmmaaaa=29/08/2020&cabina=Y&nadults=1&nchildren=0&ninfants=0&cod_promo=&stopover_outbound_days=0&stopover_inbound_days=0&application=#/'\n",
    "#url='https://www.latam.com/es_mx/apps/personas/booking?fecha1_dia=01&fecha1_anomes=2020-12&auAvailability=1&ida_vuelta=ida&vuelos_origen=Ciudad%20de%20M%C3%A9xico&from_city1=BOG&vuelos_destino=Bogot%C3%A1&to_city1=CTG&flex=1&vuelos_fecha_salida_ddmmaaaa=01/09/2020&cabina=Y&nadults=1&nchildren=0&ninfants=0&cod_promo=&stopover_outbound_days=0&stopover_inbound_days=0&application=#/'\n",
    "\n",
    "# Surely you have to change the parameters or the entire example URL on the future to get this working."
   ]
  },
  {
   "cell_type": "code",
   "execution_count": 6,
   "metadata": {},
   "outputs": [],
   "source": [
    "# The page use JS on some buttons and modals, so we need selenium to interact with the data\n",
    "\n",
    "from selenium import webdriver\n"
   ]
  },
  {
   "cell_type": "code",
   "execution_count": 7,
   "metadata": {},
   "outputs": [],
   "source": [
    "options = webdriver.ChromeOptions()\n",
    "options.add_argument('--incognito')\n",
    "driver = webdriver.Chrome(executable_path='../../chromedriver', options=options)"
   ]
  },
  {
   "cell_type": "code",
   "execution_count": 8,
   "metadata": {},
   "outputs": [],
   "source": [
    "# Get the url \n",
    "driver.get(url)"
   ]
  },
  {
   "cell_type": "code",
   "execution_count": 9,
   "metadata": {},
   "outputs": [
    {
     "data": {
      "text/plain": [
       "[<selenium.webdriver.remote.webelement.WebElement (session=\"37c948d50768d28f89c6103f52187843\", element=\"190721d0-df3e-4139-b0aa-2d7f0c5f1937\")>,\n",
       " <selenium.webdriver.remote.webelement.WebElement (session=\"37c948d50768d28f89c6103f52187843\", element=\"34968002-0eea-4ab0-be15-c4b146c10800\")>,\n",
       " <selenium.webdriver.remote.webelement.WebElement (session=\"37c948d50768d28f89c6103f52187843\", element=\"2b8b0f70-3392-4475-a05c-4c6e06c2803e\")>,\n",
       " <selenium.webdriver.remote.webelement.WebElement (session=\"37c948d50768d28f89c6103f52187843\", element=\"cc6ccba2-7ff4-459f-ad3e-351c91f90655\")>,\n",
       " <selenium.webdriver.remote.webelement.WebElement (session=\"37c948d50768d28f89c6103f52187843\", element=\"eaecde61-1551-48b8-ac36-227673a2b0cf\")>,\n",
       " <selenium.webdriver.remote.webelement.WebElement (session=\"37c948d50768d28f89c6103f52187843\", element=\"2cdafc78-254c-460d-9c9e-90846124be94\")>,\n",
       " <selenium.webdriver.remote.webelement.WebElement (session=\"37c948d50768d28f89c6103f52187843\", element=\"3011e4aa-97b6-4016-a44f-f79dc7651694\")>,\n",
       " <selenium.webdriver.remote.webelement.WebElement (session=\"37c948d50768d28f89c6103f52187843\", element=\"37f4ae13-a680-43bd-8096-46ca55f9f2ba\")>,\n",
       " <selenium.webdriver.remote.webelement.WebElement (session=\"37c948d50768d28f89c6103f52187843\", element=\"28e4232c-e7dd-4caa-9670-7be595d5853b\")>,\n",
       " <selenium.webdriver.remote.webelement.WebElement (session=\"37c948d50768d28f89c6103f52187843\", element=\"8defd836-7400-4719-b175-c10749697dd9\")>,\n",
       " <selenium.webdriver.remote.webelement.WebElement (session=\"37c948d50768d28f89c6103f52187843\", element=\"50eb904e-f91e-43e3-aed5-be03701645c7\")>,\n",
       " <selenium.webdriver.remote.webelement.WebElement (session=\"37c948d50768d28f89c6103f52187843\", element=\"73194abb-85a8-456f-8f51-096a551c7463\")>,\n",
       " <selenium.webdriver.remote.webelement.WebElement (session=\"37c948d50768d28f89c6103f52187843\", element=\"54f998b7-dd90-45b1-bb30-f5bfa79abd11\")>,\n",
       " <selenium.webdriver.remote.webelement.WebElement (session=\"37c948d50768d28f89c6103f52187843\", element=\"b7dcdf96-7e41-4130-b9bf-914d8f34b21b\")>,\n",
       " <selenium.webdriver.remote.webelement.WebElement (session=\"37c948d50768d28f89c6103f52187843\", element=\"fad91890-18ad-448a-a60f-89db175f841c\")>,\n",
       " <selenium.webdriver.remote.webelement.WebElement (session=\"37c948d50768d28f89c6103f52187843\", element=\"91197e44-fcb2-4068-9264-37fe547ebf83\")>,\n",
       " <selenium.webdriver.remote.webelement.WebElement (session=\"37c948d50768d28f89c6103f52187843\", element=\"2f9f5ead-e98c-4ffc-acf5-e91318f4447b\")>,\n",
       " <selenium.webdriver.remote.webelement.WebElement (session=\"37c948d50768d28f89c6103f52187843\", element=\"36d17691-bdb1-4d4a-8fdd-da778fe69aca\")>,\n",
       " <selenium.webdriver.remote.webelement.WebElement (session=\"37c948d50768d28f89c6103f52187843\", element=\"760c0ac5-e8d0-4cc6-8d9d-82e3b4ca7257\")>,\n",
       " <selenium.webdriver.remote.webelement.WebElement (session=\"37c948d50768d28f89c6103f52187843\", element=\"70efe381-df16-4a17-9469-da9ab5329f86\")>]"
      ]
     },
     "execution_count": 9,
     "metadata": {},
     "output_type": "execute_result"
    }
   ],
   "source": [
    "# Try to get the flights\n",
    "flights = driver.find_elements_by_xpath('//li[@class=\"flight\"]')\n",
    "flights"
   ]
  },
  {
   "cell_type": "code",
   "execution_count": null,
   "metadata": {},
   "outputs": [],
   "source": []
  }
 ],
 "metadata": {
  "kernelspec": {
   "display_name": "Python 3",
   "language": "python",
   "name": "python3"
  },
  "language_info": {
   "codemirror_mode": {
    "name": "ipython",
    "version": 3
   },
   "file_extension": ".py",
   "mimetype": "text/x-python",
   "name": "python",
   "nbconvert_exporter": "python",
   "pygments_lexer": "ipython3",
   "version": "3.8.3"
  }
 },
 "nbformat": 4,
 "nbformat_minor": 4
}
